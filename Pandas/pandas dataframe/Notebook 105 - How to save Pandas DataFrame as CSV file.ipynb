{
 "cells": [
  {
   "cell_type": "markdown",
   "metadata": {},
   "source": [
    "# How to save Pandas DataFrame as CSV file"
   ]
  },
  {
   "cell_type": "code",
   "execution_count": 1,
   "metadata": {},
   "outputs": [
    {
     "name": "stdout",
     "output_type": "stream",
     "text": [
      "\n",
      "*********************How to save Pandas DataFrame as CSV file*********************\n",
      "\n",
      "  first_name last_name  age  preTestScore  postTestScore\n",
      "0      Jason    Miller   42             4             25\n",
      "1      Molly  Jacobson   52            24             94\n",
      "2       Tina       Ali   36            31             57\n",
      "3       Jake    Milner   24             2             62\n",
      "4        Amy     Cooze   73             3             70\n"
     ]
    }
   ],
   "source": [
    "## How to save Pandas DataFrame as CSV file\n",
    "def Snippet_105(): \n",
    "    print()\n",
    "    print(format('How to save Pandas DataFrame as CSV file','*^82'))    \n",
    "\n",
    "    import warnings\n",
    "    warnings.filterwarnings(\"ignore\")\n",
    "    \n",
    "    # load libraries\n",
    "    import pandas as pd\n",
    "    \n",
    "    # Create dataframe\n",
    "    raw_data = {'first_name': ['Jason', 'Molly', 'Tina', 'Jake', 'Amy'], \n",
    "                'last_name': ['Miller', 'Jacobson', 'Ali', 'Milner', 'Cooze'], \n",
    "                'age': [42, 52, 36, 24, 73], \n",
    "                'preTestScore': [4, 24, 31, 2, 3],\n",
    "                'postTestScore': [25, 94, 57, 62, 70]}\n",
    "    \n",
    "    df = pd.DataFrame(raw_data, columns = ['first_name', 'last_name', 'age', 'preTestScore', 'postTestScore'])\n",
    "    print(); print(df)\n",
    "    \n",
    "    # save the dataframe\n",
    "    df.to_csv('raw_data.csv', encoding='utf-8', index=False)\n",
    "    df.to_excel('raw_data.xls', encoding='utf-8', index=False)\n",
    "    \n",
    "Snippet_105()"
   ]
  }
 ],
 "metadata": {
  "kernelspec": {
   "display_name": "Python 3",
   "language": "python",
   "name": "python3"
  },
  "language_info": {
   "codemirror_mode": {
    "name": "ipython",
    "version": 3
   },
   "file_extension": ".py",
   "mimetype": "text/x-python",
   "name": "python",
   "nbconvert_exporter": "python",
   "pygments_lexer": "ipython3",
   "version": "3.6.8"
  }
 },
 "nbformat": 4,
 "nbformat_minor": 2
}
