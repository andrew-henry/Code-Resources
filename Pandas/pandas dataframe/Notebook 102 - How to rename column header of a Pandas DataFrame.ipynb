{
 "cells": [
  {
   "cell_type": "markdown",
   "metadata": {},
   "source": [
    "# How to rename column header of a Pandas DataFrame"
   ]
  },
  {
   "cell_type": "code",
   "execution_count": 1,
   "metadata": {},
   "outputs": [
    {
     "name": "stdout",
     "output_type": "stream",
     "text": [
      "\n",
      "****************How to rename column header of a Pandas DataFrame*****************\n",
      "\n",
      "            0          1    2             3\n",
      "0  first_name  last_name  age  preTestScore\n",
      "1       Molly   Jacobson   52            24\n",
      "2        Tina        Ali   36            31\n",
      "3        Jake     Milner   24             2\n",
      "4         Amy      Cooze   73             3\n",
      "\n",
      "0      first_name\n",
      "1       last_name\n",
      "2             age\n",
      "3    preTestScore\n",
      "Name: 0, dtype: object\n",
      "\n",
      "       0         1   2   3\n",
      "1  Molly  Jacobson  52  24\n",
      "2   Tina       Ali  36  31\n",
      "3   Jake    Milner  24   2\n",
      "4    Amy     Cooze  73   3\n",
      "\n",
      "  first_name last_name age preTestScore\n",
      "1      Molly  Jacobson  52           24\n",
      "2       Tina       Ali  36           31\n",
      "3       Jake    Milner  24            2\n",
      "4        Amy     Cooze  73            3\n"
     ]
    }
   ],
   "source": [
    "## How to rename column header of a Pandas DataFrame\n",
    "def Snippet_102(): \n",
    "    print()\n",
    "    print(format('How to rename column header of a Pandas DataFrame','*^82'))    \n",
    "    \n",
    "    import warnings\n",
    "    warnings.filterwarnings(\"ignore\")\n",
    "    \n",
    "    # load libraries\n",
    "    import pandas as pd\n",
    "\n",
    "    # Create a values as dictionary of lists\n",
    "    raw_data = {'0': ['first_name', 'Molly', 'Tina', 'Jake', 'Amy'], \n",
    "                '1': ['last_name', 'Jacobson', 'Ali', 'Milner', 'Cooze'], \n",
    "                '2': ['age', 52, 36, 24, 73], \n",
    "                '3': ['preTestScore', 24, 31, 2, 3]}\n",
    "    \n",
    "    # Create a dataframe\n",
    "    df = pd.DataFrame(raw_data)\n",
    "    \n",
    "    # View a dataframe\n",
    "    print(); print(df)\n",
    "    \n",
    "    # Create a new variable called 'header' from the first row of the dataset\n",
    "    header = df.iloc[0]\n",
    "    print(); print(header)\n",
    "    \n",
    "    # Replace the dataframe with a new one which does not contain the first row\n",
    "    df = df[1:]\n",
    "    print(); print(df)\n",
    "    \n",
    "    # Rename the dataframe's column values with the header variable\n",
    "    df = df.rename(columns = header)\n",
    "    print(); print(df)\n",
    "    \n",
    "Snippet_102()"
   ]
  }
 ],
 "metadata": {
  "kernelspec": {
   "display_name": "Python 3",
   "language": "python",
   "name": "python3"
  },
  "language_info": {
   "codemirror_mode": {
    "name": "ipython",
    "version": 3
   },
   "file_extension": ".py",
   "mimetype": "text/x-python",
   "name": "python",
   "nbconvert_exporter": "python",
   "pygments_lexer": "ipython3",
   "version": "3.6.8"
  }
 },
 "nbformat": 4,
 "nbformat_minor": 2
}
