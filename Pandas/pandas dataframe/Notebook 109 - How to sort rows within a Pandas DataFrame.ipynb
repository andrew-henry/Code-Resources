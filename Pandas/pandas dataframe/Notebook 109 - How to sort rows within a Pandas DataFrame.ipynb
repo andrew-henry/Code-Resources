{
 "cells": [
  {
   "cell_type": "markdown",
   "metadata": {},
   "source": [
    "# How to sort rows within a Pandas DataFrame"
   ]
  },
  {
   "cell_type": "code",
   "execution_count": 1,
   "metadata": {},
   "outputs": [
    {
     "name": "stdout",
     "output_type": "stream",
     "text": [
      "\n",
      "********************How to sort rows within a Pandas DataFrame********************\n",
      "\n",
      "             name  year  reports  coverage\n",
      "Cochice     Jason  2012        1         2\n",
      "Pima        Molly  2012        2         2\n",
      "Santa Cruz   Tina  2013        1         3\n",
      "Maricopa     Jake  2014        2         3\n",
      "Yuma          Amy  2014        3         3\n",
      "\n",
      "             name  year  reports  coverage\n",
      "Yuma          Amy  2014        3         3\n",
      "Pima        Molly  2012        2         2\n",
      "Maricopa     Jake  2014        2         3\n",
      "Cochice     Jason  2012        1         2\n",
      "Santa Cruz   Tina  2013        1         3\n",
      "\n",
      "             name  year  reports  coverage\n",
      "Cochice     Jason  2012        1         2\n",
      "Santa Cruz   Tina  2013        1         3\n",
      "Pima        Molly  2012        2         2\n",
      "Maricopa     Jake  2014        2         3\n",
      "Yuma          Amy  2014        3         3\n",
      "\n",
      "             name  year  reports  coverage\n",
      "Cochice     Jason  2012        1         2\n",
      "Pima        Molly  2012        2         2\n",
      "Santa Cruz   Tina  2013        1         3\n",
      "Maricopa     Jake  2014        2         3\n",
      "Yuma          Amy  2014        3         3\n"
     ]
    }
   ],
   "source": [
    "## How to sort rows within a Pandas DataFrame\n",
    "def Snippet_109(): \n",
    "    print()\n",
    "    print(format('How to sort rows within a Pandas DataFrame','*^82'))    \n",
    "    \n",
    "    import warnings\n",
    "    warnings.filterwarnings(\"ignore\")\n",
    "    \n",
    "    # load libraries\n",
    "    import pandas as pd\n",
    "    \n",
    "    # Create dataframe\n",
    "    data = {'name': ['Jason', 'Molly', 'Tina', 'Jake', 'Amy'], \n",
    "            'year': [2012, 2012, 2013, 2014, 2014], \n",
    "            'reports': [1, 2, 1, 2, 3],\n",
    "            'coverage': [2, 2, 3, 3, 3]}\n",
    "    \n",
    "    df = pd.DataFrame(data, index = ['Cochice', 'Pima', 'Santa Cruz', 'Maricopa', 'Yuma'])\n",
    "    print(); print(df)\n",
    "    \n",
    "    # Sort the dataframe’s rows by reports, in descending order\n",
    "    print(); print(df.sort_values(by='reports', ascending=0))\n",
    "    \n",
    "    # Sort the dataframe’s rows by reports, in ascending order\n",
    "    print(); print(df.sort_values(by='reports', ascending=1))\n",
    "    \n",
    "    # Sort the dataframe’s rows by coverage and then by reports, in ascending order\n",
    "    print(); print(df.sort_values(by=['coverage', 'reports']))\n",
    "    \n",
    "Snippet_109()"
   ]
  }
 ],
 "metadata": {
  "kernelspec": {
   "display_name": "Python 3",
   "language": "python",
   "name": "python3"
  },
  "language_info": {
   "codemirror_mode": {
    "name": "ipython",
    "version": 3
   },
   "file_extension": ".py",
   "mimetype": "text/x-python",
   "name": "python",
   "nbconvert_exporter": "python",
   "pygments_lexer": "ipython3",
   "version": "3.6.8"
  }
 },
 "nbformat": 4,
 "nbformat_minor": 2
}
