{
 "cells": [
  {
   "cell_type": "markdown",
   "metadata": {},
   "source": [
    "# How to search a value within a Pandas DataFrame row"
   ]
  },
  {
   "cell_type": "code",
   "execution_count": 1,
   "metadata": {},
   "outputs": [
    {
     "name": "stdout",
     "output_type": "stream",
     "text": [
      "\n",
      "***************How to search a value within a Pandas DataFrame row****************\n",
      "\n",
      "    name           country\n",
      "0  Jason  [Syria, Lebanon]\n",
      "1  Molly  [Spain, Morocco]\n",
      "\n",
      "    name           country\n",
      "0  Jason  [Syria, Lebanon]\n"
     ]
    }
   ],
   "source": [
    "## How to search a value within a Pandas DataFrame row\n",
    "def Snippet_107(): \n",
    "    print()\n",
    "    print(format('How to search a value within a Pandas DataFrame row','*^82'))    \n",
    "    \n",
    "    import warnings\n",
    "    warnings.filterwarnings(\"ignore\")\n",
    "    \n",
    "    # load libraries\n",
    "    import pandas as pd\n",
    "    \n",
    "    # Create an example dataframe\n",
    "    data = {'name': ['Jason', 'Molly'], \n",
    "            'country': [['Syria', 'Lebanon'],['Spain', 'Morocco']]}\n",
    "    df = pd.DataFrame(data)\n",
    "    print(); print(df)\n",
    "    \n",
    "    # select certaim row in a Pandas DataFrame\n",
    "    print(); print(df[df['country'].map(lambda country: 'Syria' in country)])\n",
    "    \n",
    "Snippet_107()"
   ]
  }
 ],
 "metadata": {
  "kernelspec": {
   "display_name": "Python 3",
   "language": "python",
   "name": "python3"
  },
  "language_info": {
   "codemirror_mode": {
    "name": "ipython",
    "version": 3
   },
   "file_extension": ".py",
   "mimetype": "text/x-python",
   "name": "python",
   "nbconvert_exporter": "python",
   "pygments_lexer": "ipython3",
   "version": "3.6.8"
  }
 },
 "nbformat": 4,
 "nbformat_minor": 2
}
