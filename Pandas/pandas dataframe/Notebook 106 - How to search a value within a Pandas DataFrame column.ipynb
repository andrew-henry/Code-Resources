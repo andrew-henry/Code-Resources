{
 "cells": [
  {
   "cell_type": "markdown",
   "metadata": {},
   "source": [
    "# How to search a value within a Pandas DataFrame column"
   ]
  },
  {
   "cell_type": "code",
   "execution_count": 1,
   "metadata": {},
   "outputs": [
    {
     "name": "stdout",
     "output_type": "stream",
     "text": [
      "\n",
      "**************How to search a value within a Pandas DataFrame column**************\n",
      "\n",
      "  first_name last_name  age  preTestScore  postTestScore\n",
      "0      Jason    Miller   42             4             25\n",
      "1      Jason    Miller   42             4             25\n",
      "2       Tina       Ali   36            31             57\n",
      "3       Jake    Milner   24             2             62\n",
      "4        Amy     Cooze   73             3             70\n",
      "\n",
      "0     NaN\n",
      "1     NaN\n",
      "2    31.0\n",
      "3     2.0\n",
      "4     3.0\n",
      "Name: preTestScore, dtype: float64\n"
     ]
    }
   ],
   "source": [
    "## How to search a value within a Pandas DataFrame column\n",
    "def Snippet_106(): \n",
    "    print()\n",
    "    print(format('How to search a value within a Pandas DataFrame column','*^82'))    \n",
    "    \n",
    "    import warnings\n",
    "    warnings.filterwarnings(\"ignore\")\n",
    "    \n",
    "    # load libraries\n",
    "    import pandas as pd\n",
    "    raw_data = {'first_name': ['Jason', 'Jason', 'Tina', 'Jake', 'Amy'], \n",
    "                'last_name': ['Miller', 'Miller', 'Ali', 'Milner', 'Cooze'], \n",
    "                'age': [42, 42, 36, 24, 73], \n",
    "                'preTestScore': [4, 4, 31, 2, 3],\n",
    "                'postTestScore': [25, 25, 57, 62, 70]}\n",
    "    \n",
    "    df = pd.DataFrame(raw_data, columns = ['first_name', 'last_name', 'age', \n",
    "                                           'preTestScore', 'postTestScore'])\n",
    "    print(); print(df)\n",
    "    \n",
    "    # Find where a value exists in a column\n",
    "    # View preTestscore where postTestscore is greater than 50\n",
    "    print(); print(df['preTestScore'].where(df['postTestScore'] > 50))\n",
    "    \n",
    "Snippet_106()"
   ]
  }
 ],
 "metadata": {
  "kernelspec": {
   "display_name": "Python 3",
   "language": "python",
   "name": "python3"
  },
  "language_info": {
   "codemirror_mode": {
    "name": "ipython",
    "version": 3
   },
   "file_extension": ".py",
   "mimetype": "text/x-python",
   "name": "python",
   "nbconvert_exporter": "python",
   "pygments_lexer": "ipython3",
   "version": "3.6.8"
  }
 },
 "nbformat": 4,
 "nbformat_minor": 2
}
