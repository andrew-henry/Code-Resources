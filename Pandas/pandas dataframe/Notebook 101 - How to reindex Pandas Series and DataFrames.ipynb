{
 "cells": [
  {
   "cell_type": "markdown",
   "metadata": {},
   "source": [
    "# How to reindex Pandas Series and DataFrames"
   ]
  },
  {
   "cell_type": "code",
   "execution_count": 1,
   "metadata": {},
   "outputs": [
    {
     "name": "stdout",
     "output_type": "stream",
     "text": [
      "\n",
      "********************How to reindex Pandas Series and DataFrame********************\n",
      "\n",
      "Bisbee          34\n",
      "Douglas         23\n",
      "Sierra Vista    12\n",
      "Tombstone       23\n",
      "dtype: int64\n",
      "\n",
      "Tombstone       23.0\n",
      "Douglas         23.0\n",
      "Bisbee          34.0\n",
      "Sierra Vista    12.0\n",
      "Barley           NaN\n",
      "Tucson           NaN\n",
      "dtype: float64\n",
      "\n",
      "Tombstone       23\n",
      "Douglas         23\n",
      "Bisbee          34\n",
      "Sierra Vista    12\n",
      "Barley           0\n",
      "Tucson           0\n",
      "dtype: int64\n",
      "\n",
      "       county  year  reports\n",
      "0     Cochice  2012        4\n",
      "1        Pima  2012       24\n",
      "2  Santa Cruz  2013       31\n",
      "3    Maricopa  2014        2\n",
      "4        Yuma  2014        3\n",
      "\n",
      "       county  year  reports\n",
      "4        Yuma  2014        3\n",
      "3    Maricopa  2014        2\n",
      "2  Santa Cruz  2013       31\n",
      "1        Pima  2012       24\n",
      "0     Cochice  2012        4\n",
      "\n",
      "   year  reports      county\n",
      "0  2012        4     Cochice\n",
      "1  2012       24        Pima\n",
      "2  2013       31  Santa Cruz\n",
      "3  2014        2    Maricopa\n",
      "4  2014        3        Yuma\n"
     ]
    }
   ],
   "source": [
    "## How to reindex Pandas Series and DataFrames\n",
    "def Kickstarter_Example_101(): \n",
    "    print()\n",
    "    print(format('How to reindex Pandas Series and DataFrame','*^82'))    \n",
    "\n",
    "    import warnings\n",
    "    warnings.filterwarnings(\"ignore\")\n",
    "    \n",
    "    # load libraries\n",
    "    import pandas as pd\n",
    "    \n",
    "    # Create a pandas series of the risk of fire in Southern Arizona\n",
    "    brushFireRisk = pd.Series([34, 23, 12, 23], \n",
    "                              index = ['Bisbee', 'Douglas', \n",
    "                                       'Sierra Vista', 'Tombstone'])\n",
    "    print(); print(brushFireRisk)\n",
    "    \n",
    "    # Reindex the series and create a new series variable\n",
    "    brushFireRiskReindexed = brushFireRisk.reindex(['Tombstone', 'Douglas', \n",
    "                             'Bisbee', 'Sierra Vista', 'Barley', 'Tucson'])\n",
    "    print(); print(brushFireRiskReindexed)\n",
    "    \n",
    "    # Reindex the series and fill in any missing indexes as 0\n",
    "    brushFireRiskReindexed = brushFireRisk.reindex(['Tombstone', 'Douglas', \n",
    "                            'Bisbee', 'Sierra Vista', 'Barley', 'Tucson'], \n",
    "                            fill_value = 0)\n",
    "    print(); print(brushFireRiskReindexed)    \n",
    "    \n",
    "    # Create a dataframe\n",
    "    data = {'county': ['Cochice', 'Pima', 'Santa Cruz', 'Maricopa', 'Yuma'], \n",
    "            'year': [2012, 2012, 2013, 2014, 2014], \n",
    "            'reports': [4, 24, 31, 2, 3]}\n",
    "    df = pd.DataFrame(data)\n",
    "    print(); print(df)\n",
    "    \n",
    "    # Change the order (the index) of the rows\n",
    "    print(); print(df.reindex([4, 3, 2, 1, 0]))\n",
    "    \n",
    "    # Change the order (the index) of the columns\n",
    "    columnsTitles = ['year', 'reports', 'county']\n",
    "    print(); print(df.reindex(columns=columnsTitles))\n",
    "    \n",
    "Kickstarter_Example_101()"
   ]
  }
 ],
 "metadata": {
  "kernelspec": {
   "display_name": "Python 3",
   "language": "python",
   "name": "python3"
  },
  "language_info": {
   "codemirror_mode": {
    "name": "ipython",
    "version": 3
   },
   "file_extension": ".py",
   "mimetype": "text/x-python",
   "name": "python",
   "nbconvert_exporter": "python",
   "pygments_lexer": "ipython3",
   "version": "3.6.8"
  }
 },
 "nbformat": 4,
 "nbformat_minor": 2
}
