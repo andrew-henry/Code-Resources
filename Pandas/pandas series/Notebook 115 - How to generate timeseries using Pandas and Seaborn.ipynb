{
 "cells": [
  {
   "cell_type": "markdown",
   "metadata": {},
   "source": [
    "# How to generate timeseries using Pandas and Seaborn"
   ]
  },
  {
   "cell_type": "code",
   "execution_count": 2,
   "metadata": {},
   "outputs": [
    {
     "name": "stdout",
     "output_type": "stream",
     "text": [
      "\n",
      "***************How to generate timeseries using Pandas and Seaborn****************\n",
      "\n",
      "                                                  date battle_deaths  \\\n",
      "date                                                                   \n",
      "2014-05-01 18:47:05.069722  2014-05-01 18:47:05.069722           NaN   \n",
      "2014-05-01 18:47:05.119994  2014-05-01 18:47:05.119994           NaN   \n",
      "2014-05-02 18:47:05.178768  2014-05-02 18:47:05.178768           NaN   \n",
      "2014-05-02 18:47:05.230071  2014-05-02 18:47:05.230071           NaN   \n",
      "2014-05-02 18:47:05.230071  2014-05-02 18:47:05.230071           NaN   \n",
      "2014-05-02 18:47:05.280592  2014-05-02 18:47:05.280592           NaN   \n",
      "2014-05-03 18:47:05.332662  2014-05-03 18:47:05.332662           NaN   \n",
      "2014-05-03 18:47:05.385109  2014-05-03 18:47:05.385109           NaN   \n",
      "2014-05-04 18:47:05.436523  2014-05-04 18:47:05.436523           NaN   \n",
      "2014-05-04 18:47:05.486877  2014-05-04 18:47:05.486877           NaN   \n",
      "\n",
      "                            deaths_regiment_1  deaths_regiment_2  \\\n",
      "date                                                               \n",
      "2014-05-01 18:47:05.069722                 34                 52   \n",
      "2014-05-01 18:47:05.119994                 43                 66   \n",
      "2014-05-02 18:47:05.178768                 14                 78   \n",
      "2014-05-02 18:47:05.230071                 15                 15   \n",
      "2014-05-02 18:47:05.230071                 15                 15   \n",
      "2014-05-02 18:47:05.280592                 14                  5   \n",
      "2014-05-03 18:47:05.332662                 31                 25   \n",
      "2014-05-03 18:47:05.385109                 25                 25   \n",
      "2014-05-04 18:47:05.436523                 62                 86   \n",
      "2014-05-04 18:47:05.486877                 41                  1   \n",
      "\n",
      "                            deaths_regiment_3  deaths_regiment_4  \\\n",
      "date                                                               \n",
      "2014-05-01 18:47:05.069722                 13                 44   \n",
      "2014-05-01 18:47:05.119994                 73                 75   \n",
      "2014-05-02 18:47:05.178768                 82                 26   \n",
      "2014-05-02 18:47:05.230071                 58                 15   \n",
      "2014-05-02 18:47:05.230071                 52                 15   \n",
      "2014-05-02 18:47:05.280592                 87                 14   \n",
      "2014-05-03 18:47:05.332662                 26                 54   \n",
      "2014-05-03 18:47:05.385109                  5                 25   \n",
      "2014-05-04 18:47:05.436523                 56                 24   \n",
      "2014-05-04 18:47:05.486877                 75                 72   \n",
      "\n",
      "                            deaths_regiment_5  deaths_regiment_6  \\\n",
      "date                                                               \n",
      "2014-05-01 18:47:05.069722                 25                 84   \n",
      "2014-05-01 18:47:05.119994                 24                 84   \n",
      "2014-05-02 18:47:05.178768                 25                 26   \n",
      "2014-05-02 18:47:05.230071                 15                 15   \n",
      "2014-05-02 18:47:05.230071                 57                 15   \n",
      "2014-05-02 18:47:05.280592                 68                 14   \n",
      "2014-05-03 18:47:05.332662                 21                 26   \n",
      "2014-05-03 18:47:05.385109                 27                 25   \n",
      "2014-05-04 18:47:05.436523                 62                 62   \n",
      "2014-05-04 18:47:05.486877                  5                 24   \n",
      "\n",
      "                            deaths_regiment_7  \n",
      "date                                           \n",
      "2014-05-01 18:47:05.069722                 46  \n",
      "2014-05-01 18:47:05.119994                 57  \n",
      "2014-05-02 18:47:05.178768                 26  \n",
      "2014-05-02 18:47:05.230071                 15  \n",
      "2014-05-02 18:47:05.230071                 15  \n",
      "2014-05-02 18:47:05.280592                 14  \n",
      "2014-05-03 18:47:05.332662                 26  \n",
      "2014-05-03 18:47:05.385109                 25  \n",
      "2014-05-04 18:47:05.436523                 62  \n",
      "2014-05-04 18:47:05.486877                 41  \n"
     ]
    },
    {
     "data": {
      "image/png": "[encoded data removed]",
      "text/plain": [
       "<Figure size 432x288 with 1 Axes>"
      ]
     },
     "metadata": {
      "needs_background": "light"
     },
     "output_type": "display_data"
    }
   ],
   "source": [
    "## How to generate timeseries using Pandas and Seaborn\n",
    "def Snippet_115(): \n",
    "    print()\n",
    "    print(format('How to generate timeseries using Pandas and Seaborn','*^82'))    \n",
    "    \n",
    "    import warnings\n",
    "    warnings.filterwarnings(\"ignore\")\n",
    "    \n",
    "    # load libraries\n",
    "    import pandas as pd\n",
    "    import matplotlib.pyplot as plt\n",
    "    import seaborn as sns\n",
    "    \n",
    "    data = {'date': ['2014-05-01 18:47:05.069722', '2014-05-01 18:47:05.119994', \n",
    "                     '2014-05-02 18:47:05.178768', '2014-05-02 18:47:05.230071', \n",
    "                     '2014-05-02 18:47:05.230071', '2014-05-02 18:47:05.280592', \n",
    "                     '2014-05-03 18:47:05.332662', '2014-05-03 18:47:05.385109', \n",
    "                     '2014-05-04 18:47:05.436523', '2014-05-04 18:47:05.486877'], \n",
    "        'deaths_regiment_1': [34, 43, 14, 15, 15, 14, 31, 25, 62, 41],\n",
    "        'deaths_regiment_2': [52, 66, 78, 15, 15, 5, 25, 25, 86, 1],\n",
    "        'deaths_regiment_3': [13, 73, 82, 58, 52, 87, 26, 5, 56, 75],\n",
    "        'deaths_regiment_4': [44, 75, 26, 15, 15, 14, 54, 25, 24, 72],\n",
    "        'deaths_regiment_5': [25, 24, 25, 15, 57, 68, 21, 27, 62, 5],\n",
    "        'deaths_regiment_6': [84, 84, 26, 15, 15, 14, 26, 25, 62, 24],\n",
    "        'deaths_regiment_7': [46, 57, 26, 15, 15, 14, 26, 25, 62, 41]}\n",
    "    \n",
    "    df = pd.DataFrame(data, columns = ['date', 'battle_deaths', 'deaths_regiment_1', \n",
    "                'deaths_regiment_2', 'deaths_regiment_3', 'deaths_regiment_4', \n",
    "                'deaths_regiment_5', 'deaths_regiment_6', 'deaths_regiment_7'])\n",
    "    df = df.set_index(df.date)\n",
    "    \n",
    "    # dataFrame\n",
    "    print(); print(df)\n",
    "    \n",
    "    # Time Series Plot\n",
    "    sns.tsplot([df.deaths_regiment_1, df.deaths_regiment_2, df.deaths_regiment_3, df.deaths_regiment_4,\n",
    "                df.deaths_regiment_5, df.deaths_regiment_6, df.deaths_regiment_7])\n",
    "    plt.show()\n",
    "    \n",
    "Snippet_115()"
   ]
  },
  {
   "cell_type": "code",
   "execution_count": null,
   "metadata": {},
   "outputs": [],
   "source": []
  }
 ],
 "metadata": {
  "kernelspec": {
   "display_name": "Python 3",
   "language": "python",
   "name": "python3"
  },
  "language_info": {
   "codemirror_mode": {
    "name": "ipython",
    "version": 3
   },
   "file_extension": ".py",
   "mimetype": "text/x-python",
   "name": "python",
   "nbconvert_exporter": "python",
   "pygments_lexer": "ipython3",
   "version": "3.6.8"
  }
 },
 "nbformat": 4,
 "nbformat_minor": 2
}
