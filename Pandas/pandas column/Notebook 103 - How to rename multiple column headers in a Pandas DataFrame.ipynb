{
 "cells": [
  {
   "cell_type": "markdown",
   "metadata": {},
   "source": [
    "# How to rename multiple column headers in a Pandas DataFrame"
   ]
  },
  {
   "cell_type": "code",
   "execution_count": 1,
   "metadata": {},
   "outputs": [
    {
     "name": "stdout",
     "output_type": "stream",
     "text": [
      "\n",
      "***********How to rename multiple column headers in a Pandas DataFrame************\n",
      "\n",
      "           Commander          Date  Score\n",
      "Cochice        Jason  2012, 02, 08      4\n",
      "Pima           Molly  2012, 02, 08     24\n",
      "Santa Cruz      Tina  2012, 02, 08     31\n",
      "Maricopa        Jake  2012, 02, 08      2\n",
      "Yuma             Amy  2012, 02, 08      3\n",
      "\n",
      "           Leader          Time  Score\n",
      "Cochice     Jason  2012, 02, 08      4\n",
      "Pima        Molly  2012, 02, 08     24\n",
      "Santa Cruz   Tina  2012, 02, 08     31\n",
      "Maricopa     Jake  2012, 02, 08      2\n",
      "Yuma          Amy  2012, 02, 08      3\n",
      "\n",
      "           Commander          Time  Score\n",
      "Cochice        Jason  2012, 02, 08      4\n",
      "Pima           Molly  2012, 02, 08     24\n",
      "Santa Cruz      Tina  2012, 02, 08     31\n",
      "Maricopa        Jake  2012, 02, 08      2\n",
      "Yuma             Amy  2012, 02, 08      3\n"
     ]
    }
   ],
   "source": [
    "## How to rename multiple column headers in a Pandas DataFrame\n",
    "def Snippet_103(): \n",
    "    print()\n",
    "    print(format('How to rename multiple column headers in a Pandas DataFrame','*^82'))    \n",
    "    \n",
    "    import warnings\n",
    "    warnings.filterwarnings(\"ignore\")\n",
    "    \n",
    "    # load libraries\n",
    "    import pandas as pd\n",
    "    \n",
    "    # Set ipython's max row display\n",
    "    pd.set_option('display.max_row', 1000)\n",
    "    \n",
    "    # Set iPython's max column width to 50\n",
    "    pd.set_option('display.max_columns', 50)\n",
    "\n",
    "    # Create an example dataframe\n",
    "    data = {'Commander': ['Jason', 'Molly', 'Tina', 'Jake', 'Amy'], \n",
    "            'Date': ['2012, 02, 08', '2012, 02, 08', '2012, 02, 08', \n",
    "                     '2012, 02, 08', '2012, 02, 08'], \n",
    "            'Score': [4, 24, 31, 2, 3]}\n",
    "    df = pd.DataFrame(data, index = ['Cochice', 'Pima', 'Santa Cruz', \n",
    "                                     'Maricopa', 'Yuma'])\n",
    "    print(); print(df)\n",
    "    \n",
    "    # Rename Column Names\n",
    "    df.columns = ['Leader', 'Time', 'Score']\n",
    "    print(); print(df)\n",
    "    \n",
    "    # Rename Column Name Leader to Commander\n",
    "    df.rename(columns={'Leader':'Commander'}, inplace=True)\n",
    "    print(); print(df)\n",
    "    \n",
    "Snippet_103()"
   ]
  }
 ],
 "metadata": {
  "kernelspec": {
   "display_name": "Python 3",
   "language": "python",
   "name": "python3"
  },
  "language_info": {
   "codemirror_mode": {
    "name": "ipython",
    "version": 3
   },
   "file_extension": ".py",
   "mimetype": "text/x-python",
   "name": "python",
   "nbconvert_exporter": "python",
   "pygments_lexer": "ipython3",
   "version": "3.6.8"
  }
 },
 "nbformat": 4,
 "nbformat_minor": 2
}
