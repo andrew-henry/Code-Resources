{
 "cells": [
  {
   "cell_type": "markdown",
   "metadata": {},
   "source": [
    "# How to extract features using PCA in Python"
   ]
  },
  {
   "cell_type": "code",
   "execution_count": 1,
   "metadata": {},
   "outputs": [
    {
     "name": "stdout",
     "output_type": "stream",
     "text": [
      "\n",
      "*******************How to extract features using PCA in Python********************\n",
      "\n",
      "(569, 30)\n",
      "\n",
      "[[1.799e+01 1.038e+01 1.228e+02 ... 2.654e-01 4.601e-01 1.189e-01]\n",
      " [2.057e+01 1.777e+01 1.329e+02 ... 1.860e-01 2.750e-01 8.902e-02]\n",
      " [1.969e+01 2.125e+01 1.300e+02 ... 2.430e-01 3.613e-01 8.758e-02]\n",
      " ...\n",
      " [1.660e+01 2.808e+01 1.083e+02 ... 1.418e-01 2.218e-01 7.820e-02]\n",
      " [2.060e+01 2.933e+01 1.401e+02 ... 2.650e-01 4.087e-01 1.240e-01]\n",
      " [7.760e+00 2.454e+01 4.792e+01 ... 0.000e+00 2.871e-01 7.039e-02]]\n",
      "\n",
      "(569, 30)\n",
      "\n",
      "[[ 1.09706398 -2.07333501  1.26993369 ...  2.29607613  2.75062224\n",
      "   1.93701461]\n",
      " [ 1.82982061 -0.35363241  1.68595471 ...  1.0870843  -0.24388967\n",
      "   0.28118999]\n",
      " [ 1.57988811  0.45618695  1.56650313 ...  1.95500035  1.152255\n",
      "   0.20139121]\n",
      " ...\n",
      " [ 0.70228425  2.0455738   0.67267578 ...  0.41406869 -1.10454895\n",
      "  -0.31840916]\n",
      " [ 1.83834103  2.33645719  1.98252415 ...  2.28998549  1.91908301\n",
      "   2.21963528]\n",
      " [-1.80840125  1.22179204 -1.81438851 ... -1.74506282 -0.04813821\n",
      "  -0.75120669]]\n",
      "\n",
      "(569, 3)\n",
      "\n",
      "[[ 9.19283683  1.94858275 -1.123163  ]\n",
      " [ 2.38780181 -3.76817263 -0.52928187]\n",
      " [ 5.73389628 -1.07517383 -0.55174676]\n",
      " ...\n",
      " [ 1.25617927 -1.90229641  0.56272681]\n",
      " [10.37479405  1.67201091 -1.87703905]\n",
      " [-5.47524329 -0.67063731  1.49044953]]\n"
     ]
    }
   ],
   "source": [
    "## How to extract features using PCA in Python\n",
    "def Snippet_124(): \n",
    "    print()\n",
    "    print(format('How to extract features using PCA in Python','*^82')) \n",
    "    \n",
    "    import warnings\n",
    "    warnings.filterwarnings(\"ignore\")\n",
    "    \n",
    "    # load libraries\n",
    "    from sklearn import decomposition, datasets\n",
    "    from sklearn.preprocessing import StandardScaler\n",
    "    \n",
    "    # Load the breast cancer dataset\n",
    "    dataset = datasets.load_breast_cancer()\n",
    "    \n",
    "    # Load the features\n",
    "    X = dataset.data\n",
    "    \n",
    "    # View the shape of the dataset\n",
    "    print(); print(X.shape)\n",
    "    print(); print(X)\n",
    "    \n",
    "    # Standardize Features\n",
    "    sc = StandardScaler()\n",
    "    \n",
    "    # Fit the scaler to the features and transform\n",
    "    X_std = sc.fit_transform(X)\n",
    "    \n",
    "    # View the new feature data's shape    \n",
    "    print(); print(X_std.shape)    \n",
    "    print(); print(X_std)\n",
    "    \n",
    "    # Create a pca object with the 3 components\n",
    "    pca = decomposition.PCA(n_components=3)\n",
    "    \n",
    "    # Fit the PCA and transform the data\n",
    "    X_std_pca = pca.fit_transform(X_std)\n",
    "    \n",
    "    # View the new feature data's shape\n",
    "    print(); print(X_std_pca.shape)\n",
    "    print(); print(X_std_pca)\n",
    "    \n",
    "Snippet_124()"
   ]
  }
 ],
 "metadata": {
  "kernelspec": {
   "display_name": "Python 3",
   "language": "python",
   "name": "python3"
  },
  "language_info": {
   "codemirror_mode": {
    "name": "ipython",
    "version": 3
   },
   "file_extension": ".py",
   "mimetype": "text/x-python",
   "name": "python",
   "nbconvert_exporter": "python",
   "pygments_lexer": "ipython3",
   "version": "3.6.8"
  }
 },
 "nbformat": 4,
 "nbformat_minor": 2
}
