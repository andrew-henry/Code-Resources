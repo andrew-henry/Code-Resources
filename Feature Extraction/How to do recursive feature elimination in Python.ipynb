{
 "cells": [
  {
   "cell_type": "markdown",
   "metadata": {},
   "source": [
    "# How to do recursive feature elimination in Python"
   ]
  },
  {
   "cell_type": "code",
   "execution_count": 1,
   "metadata": {},
   "outputs": [
    {
     "name": "stdout",
     "output_type": "stream",
     "text": [
      "\n",
      "****************How to do recursive feature elimination in Python*****************\n",
      "\n",
      "(10000, 100)\n",
      "\n",
      "RFECV(cv=4,\n",
      "   estimator=LinearRegression(copy_X=True, fit_intercept=True, n_jobs=None,\n",
      "         normalize=False),\n",
      "   min_features_to_select=1, n_jobs=4, scoring='neg_mean_squared_error',\n",
      "   step=1, verbose=0)\n",
      "\n",
      "4\n"
     ]
    }
   ],
   "source": [
    "## How to do recursive feature elimination in Python\n",
    "def Snippet_128(): \n",
    "    print()\n",
    "    print(format('How to do recursive feature elimination in Python','*^82'))    \n",
    "    \n",
    "    import warnings\n",
    "    warnings.filterwarnings(\"ignore\")\n",
    "    \n",
    "    # load libraries\n",
    "    from sklearn.datasets import make_regression\n",
    "    from sklearn.feature_selection import RFECV\n",
    "    from sklearn import linear_model\n",
    "    \n",
    "    # Create Data\n",
    "    # Generate features matrix, target vector, and the true coefficients\n",
    "    X, y = make_regression(n_samples = 10000, n_features = 100, n_informative = 2)\n",
    "    print(); print(X.shape)\n",
    "    \n",
    "    # Create Linear Model\n",
    "    ols = linear_model.LinearRegression()\n",
    "    \n",
    "    # Create recursive feature eliminator that scores features by mean squared errors\n",
    "    rfecv = RFECV(estimator=ols, step=1, scoring='neg_mean_squared_error', cv=4, verbose=0,\n",
    "                  n_jobs=4)\n",
    "    \n",
    "    # Fit recursive feature eliminator \n",
    "    rfecv.fit(X, y)\n",
    "    \n",
    "    # Recursive feature elimination\n",
    "    rfecv.transform(X)\n",
    "    \n",
    "    # Number of best features\n",
    "    print(); print(rfecv)    \n",
    "    print(); print(rfecv.n_features_)\n",
    "    \n",
    "Snippet_128()"
   ]
  }
 ],
 "metadata": {
  "kernelspec": {
   "display_name": "Python 3",
   "language": "python",
   "name": "python3"
  },
  "language_info": {
   "codemirror_mode": {
    "name": "ipython",
    "version": 3
   },
   "file_extension": ".py",
   "mimetype": "text/x-python",
   "name": "python",
   "nbconvert_exporter": "python",
   "pygments_lexer": "ipython3",
   "version": "3.6.8"
  }
 },
 "nbformat": 4,
 "nbformat_minor": 2
}
