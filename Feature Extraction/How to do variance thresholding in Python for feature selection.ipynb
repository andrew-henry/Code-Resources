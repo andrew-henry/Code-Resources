{
 "cells": [
  {
   "cell_type": "markdown",
   "metadata": {},
   "source": [
    "# How to do variance thresholding in Python for feature selection"
   ]
  },
  {
   "cell_type": "code",
   "execution_count": 1,
   "metadata": {},
   "outputs": [
    {
     "name": "stdout",
     "output_type": "stream",
     "text": [
      "\n",
      "*********How to do variance thresholding in Python for feature selection**********\n",
      "\n",
      "[[5.1 3.5 1.4 0.2]\n",
      " [4.9 3.  1.4 0.2]\n",
      " [4.7 3.2 1.3 0.2]\n",
      " [4.6 3.1 1.5 0.2]\n",
      " [5.  3.6 1.4 0.2]\n",
      " [5.4 3.9 1.7 0.4]\n",
      " [4.6 3.4 1.4 0.3]]\n",
      "\n",
      "[0 0 0 0 0 0 0]\n",
      "\n",
      "[[5.1 1.4 0.2]\n",
      " [4.9 1.4 0.2]\n",
      " [4.7 1.3 0.2]\n",
      " [4.6 1.5 0.2]\n",
      " [5.  1.4 0.2]\n",
      " [5.4 1.7 0.4]\n",
      " [4.6 1.4 0.3]]\n"
     ]
    }
   ],
   "source": [
    "## How to do variance thresholding in Python for feature selection\n",
    "def Snippet_130(): \n",
    "    print()\n",
    "    print(format('How to do variance thresholding in Python for feature selection','*^82'))    \n",
    "    \n",
    "    import warnings\n",
    "    warnings.filterwarnings(\"ignore\")\n",
    "    \n",
    "    # load libraries\n",
    "    from sklearn import datasets\n",
    "    from sklearn.feature_selection import VarianceThreshold\n",
    "    \n",
    "    # Load iris data\n",
    "    iris = datasets.load_iris()\n",
    "    \n",
    "    # Create features and target\n",
    "    X = iris.data; print(); print(X[0:7])\n",
    "    y = iris.target; print(); print(y[0:7])\n",
    "    \n",
    "    # Create VarianceThreshold object with a variance with a threshold of 0.5\n",
    "    thresholder = VarianceThreshold(threshold=.5)\n",
    "    \n",
    "    # Conduct variance thresholding\n",
    "    X_high_variance = thresholder.fit_transform(X)\n",
    "    \n",
    "    # View first five rows with features with variances above threshold\n",
    "    print(); print(X_high_variance[0:7])\n",
    "    \n",
    "Snippet_130()"
   ]
  }
 ],
 "metadata": {
  "kernelspec": {
   "display_name": "Python 3",
   "language": "python",
   "name": "python3"
  },
  "language_info": {
   "codemirror_mode": {
    "name": "ipython",
    "version": 3
   },
   "file_extension": ".py",
   "mimetype": "text/x-python",
   "name": "python",
   "nbconvert_exporter": "python",
   "pygments_lexer": "ipython3",
   "version": "3.6.8"
  }
 },
 "nbformat": 4,
 "nbformat_minor": 2
}
