{
 "cells": [
  {
   "cell_type": "markdown",
   "metadata": {},
   "source": [
    "# How to select model using Grid Search in Python"
   ]
  },
  {
   "cell_type": "code",
   "execution_count": 1,
   "metadata": {},
   "outputs": [
    {
     "name": "stdout",
     "output_type": "stream",
     "text": [
      "\n",
      "*****************How to select model using Grid Search in Python******************\n",
      "\n",
      "LogisticRegression(C=7.742636826811269, class_weight=None, dual=False,\n",
      "          fit_intercept=True, intercept_scaling=1, max_iter=100,\n",
      "          multi_class='warn', n_jobs=None, penalty='l1', random_state=None,\n",
      "          solver='warn', tol=0.0001, verbose=0, warm_start=False)\n"
     ]
    }
   ],
   "source": [
    "## How to select model using Grid Search in Python\n",
    "def Snippet_144(): \n",
    "    print()\n",
    "    print(format('How to select model using Grid Search in Python','*^82'))    \n",
    "    \n",
    "    import warnings\n",
    "    warnings.filterwarnings(\"ignore\")\n",
    "    \n",
    "    # load libraries\n",
    "    import numpy as np\n",
    "    from sklearn import datasets\n",
    "    from sklearn.linear_model import LogisticRegression\n",
    "    from sklearn.ensemble import RandomForestClassifier\n",
    "    from sklearn.model_selection import GridSearchCV\n",
    "    from sklearn.pipeline import Pipeline\n",
    "    \n",
    "    # Set random seed\n",
    "    np.random.seed(0)\n",
    "    \n",
    "    # Load Iris Dataset\n",
    "    iris = datasets.load_iris()\n",
    "    X = iris.data\n",
    "    y = iris.target\n",
    "    \n",
    "    # Create Pipeline With Model Selection Search Space\n",
    "    pipe = Pipeline([('classifier', RandomForestClassifier())])\n",
    "    \n",
    "    # Create space of candidate learning algorithms and their hyperparameters\n",
    "    search_space = [{'classifier': [LogisticRegression()],\n",
    "                                   'classifier__penalty': ['l1', 'l2'],\n",
    "                                   'classifier__C': np.logspace(0, 4, 10)\n",
    "                    },\n",
    "                    {'classifier': [RandomForestClassifier()],\n",
    "                                   'classifier__n_estimators': [10, 100, 1000],\n",
    "                                   'classifier__max_features': [1, 2, 3]\n",
    "                    }]\n",
    "    \n",
    "    # Create grid search \n",
    "    clf = GridSearchCV(pipe, search_space, cv=5, verbose=0, n_jobs = -1)\n",
    "    \n",
    "    # Conduct Model Selection Using Grid Search\n",
    "    best_model = clf.fit(X, y)\n",
    "    \n",
    "    # View best model\n",
    "    print(); print(best_model.best_estimator_.get_params()['classifier'])\n",
    "    \n",
    "Snippet_144()"
   ]
  }
 ],
 "metadata": {
  "kernelspec": {
   "display_name": "Python 3",
   "language": "python",
   "name": "python3"
  },
  "language_info": {
   "codemirror_mode": {
    "name": "ipython",
    "version": 3
   },
   "file_extension": ".py",
   "mimetype": "text/x-python",
   "name": "python",
   "nbconvert_exporter": "python",
   "pygments_lexer": "ipython3",
   "version": "3.6.8"
  }
 },
 "nbformat": 4,
 "nbformat_minor": 2
}
