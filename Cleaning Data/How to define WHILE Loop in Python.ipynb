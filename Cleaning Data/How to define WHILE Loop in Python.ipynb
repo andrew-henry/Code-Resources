{
 "cells": [
  {
   "cell_type": "markdown",
   "metadata": {},
   "source": [
    "# How to define WHILE Loop in Python"
   ]
  },
  {
   "cell_type": "code",
   "execution_count": 1,
   "metadata": {},
   "outputs": [
    {
     "name": "stdout",
     "output_type": "stream",
     "text": [
      "\n",
      "************************How to define WHILE Loop in Python************************\n",
      "No, it is lower\n",
      "No, it is lower\n",
      "No, it is lower\n",
      "Correct!\n"
     ]
    }
   ],
   "source": [
    "## How to define WHILE Loop in Python\n",
    "def Kickstarter_Example_59(): \n",
    "    print()\n",
    "    print(format('How to define WHILE Loop in Python','*^82'))    \n",
    "\n",
    "    import warnings\n",
    "    warnings.filterwarnings(\"ignore\")\n",
    "\n",
    "    # Load Libraries\n",
    "    import random\n",
    "    \n",
    "    # Create a variable of the true number of Sales of a Retail event\n",
    "    sales = 7\n",
    "    \n",
    "    # Create a variable that is denotes if the while loop should keep running\n",
    "    running = True\n",
    "    \n",
    "    # while running is True\n",
    "    while running:\n",
    "        # Create a variable that randomly create a integer between 0 and 10.\n",
    "        guess = random.randint(0,10)\n",
    "    \n",
    "        # if guess equals number of sales,\n",
    "        if guess == sales:\n",
    "            print('Correct!')\n",
    "            running = False\n",
    "        \n",
    "        # else if guess is lower than slaes\n",
    "        elif guess < sales:\n",
    "            print('No, it is higher.')\n",
    "        else:\n",
    "            print('No, it is lower')\n",
    "            \n",
    "Kickstarter_Example_59()"
   ]
  }
 ],
 "metadata": {
  "kernelspec": {
   "display_name": "Python 3",
   "language": "python",
   "name": "python3"
  },
  "language_info": {
   "codemirror_mode": {
    "name": "ipython",
    "version": 3
   },
   "file_extension": ".py",
   "mimetype": "text/x-python",
   "name": "python",
   "nbconvert_exporter": "python",
   "pygments_lexer": "ipython3",
   "version": "3.6.8"
  }
 },
 "nbformat": 4,
 "nbformat_minor": 2
}
