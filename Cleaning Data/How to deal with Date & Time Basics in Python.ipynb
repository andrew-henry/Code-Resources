{
 "cells": [
  {
   "cell_type": "markdown",
   "metadata": {},
   "source": [
    "# How to deal with Date & Time Basics in Python"
   ]
  },
  {
   "cell_type": "code",
   "execution_count": 1,
   "metadata": {},
   "outputs": [
    {
     "name": "stdout",
     "output_type": "stream",
     "text": [
      "\n",
      "******************How to deal with Date & Time Basics in Python*******************\n",
      "\n",
      "2019-04-19 11:23:33.895987\n",
      "\n",
      "2019\n",
      "\n",
      "4\n",
      "\n",
      "19\n",
      "\n",
      "11\n",
      "\n",
      "23\n",
      "\n",
      "1 day, 0:00:00\n",
      "\n",
      "1\n",
      "\n",
      "0\n",
      "\n",
      "2018-01-19 00:00:00\n"
     ]
    }
   ],
   "source": [
    "## How to deal with Date & Time Basics in Python\n",
    "def Kickstarter_Example_55(): \n",
    "    print()\n",
    "    print(format('How to deal with Date & Time Basics in Python','*^82'))    \n",
    "    import warnings\n",
    "    warnings.filterwarnings(\"ignore\")\n",
    "\n",
    "    # Load Libraries\n",
    "    from datetime import datetime\n",
    "    from datetime import timedelta\n",
    "    # Create a variable with the current time\n",
    "    now = datetime.now()\n",
    "    print(); print(now)\n",
    "    # The current year\n",
    "    print(); print(now.year)\n",
    "    # The current month\n",
    "    print(); print(now.month)\n",
    "    # The current day\n",
    "    print(); print(now.day)\n",
    "    # The current hour\n",
    "    print(); print(now.hour)\n",
    "    # The current minute\n",
    "    print(); print(now.minute)\n",
    "    # The difference between two dates\n",
    "    delta = datetime(2011, 1, 7) - datetime(2011, 1, 6)\n",
    "    print(); print(delta)\n",
    "    # The difference days\n",
    "    print(); print(delta.days)\n",
    "    # The difference seconds\n",
    "    print(); print(delta.seconds)\n",
    "    # Create a time\n",
    "    start = datetime(2018, 1, 7)\n",
    "    # Add twelve days to the time\n",
    "    print(); print(start + timedelta(12))\n",
    "\n",
    "Kickstarter_Example_55()"
   ]
  }
 ],
 "metadata": {
  "kernelspec": {
   "display_name": "Python 3",
   "language": "python",
   "name": "python3"
  },
  "language_info": {
   "codemirror_mode": {
    "name": "ipython",
    "version": 3
   },
   "file_extension": ".py",
   "mimetype": "text/x-python",
   "name": "python",
   "nbconvert_exporter": "python",
   "pygments_lexer": "ipython3",
   "version": "3.6.8"
  }
 },
 "nbformat": 4,
 "nbformat_minor": 2
}
