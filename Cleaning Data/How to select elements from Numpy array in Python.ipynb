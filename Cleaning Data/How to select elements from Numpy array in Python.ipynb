{
 "cells": [
  {
   "cell_type": "markdown",
   "metadata": {},
   "source": [
    "# How to Select Elements from a Numpy Array"
   ]
  },
  {
   "cell_type": "code",
   "execution_count": 1,
   "metadata": {},
   "outputs": [
    {
     "name": "stdout",
     "output_type": "stream",
     "text": [
      "\n",
      "******How to Select Elements from Numpy Array*******\n",
      "\n",
      "2\n",
      "\n",
      "5\n",
      "\n",
      "[4 4]\n"
     ]
    }
   ],
   "source": [
    "## How to Select Elements from a Numpy Array\n",
    "def Kickstarter_Example_3():\n",
    "    print()\n",
    "    print(format('How to Select Elements from Numpy Array', '*^52'))    \n",
    "    \n",
    "    # Load library\n",
    "    import numpy as np\n",
    "\n",
    "    # Create row vector\n",
    "    vector = np.array([1, 2, 3, 4, 5, 6])\n",
    "    # Select second element\n",
    "    print()\n",
    "    print(vector[1])\n",
    "\n",
    "    # Create matrix\n",
    "    matrix = np.array([[1, 2, 3],\n",
    "                   [4, 5, 6],\n",
    "                   [7, 8, 9]])\n",
    "    # Select second row, second column\n",
    "    print()\n",
    "    print(matrix[1,1])\n",
    "\n",
    "    # Create Tensor\n",
    "    tensor = np.array([\n",
    "                    [[[1, 1], [1, 1]], [[2, 2], [2, 2]]],\n",
    "                    [[[3, 3], [3, 3]], [[4, 4], [4, 4]]]\n",
    "                  ])\n",
    "    # Select second element of each of the three dimensions\n",
    "    print()\n",
    "    print(tensor[1,1,1])\n",
    "Kickstarter_Example_3()  "
   ]
  }
 ],
 "metadata": {
  "kernelspec": {
   "display_name": "Python 3",
   "language": "python",
   "name": "python3"
  },
  "language_info": {
   "codemirror_mode": {
    "name": "ipython",
    "version": 3
   },
   "file_extension": ".py",
   "mimetype": "text/x-python",
   "name": "python",
   "nbconvert_exporter": "python",
   "pygments_lexer": "ipython3",
   "version": "3.6.8"
  }
 },
 "nbformat": 4,
 "nbformat_minor": 2
}
