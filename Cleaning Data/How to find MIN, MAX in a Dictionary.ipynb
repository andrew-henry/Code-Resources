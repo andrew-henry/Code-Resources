{
 "cells": [
  {
   "cell_type": "markdown",
   "metadata": {},
   "source": [
    "# How to find MIN, MAX in a Dictionary"
   ]
  },
  {
   "cell_type": "code",
   "execution_count": 1,
   "metadata": {},
   "outputs": [
    {
     "name": "stdout",
     "output_type": "stream",
     "text": [
      "\n",
      "***********************How to find MIN, MAX in a Dictionary***********************\n",
      "\n",
      "Maximum Value: \n",
      "(52, 'Mike')\n",
      "\n",
      "Maximum Value: \n",
      "(12, 'Sarah')\n"
     ]
    }
   ],
   "source": [
    "## How to find MIN, MAX in a Dictionary\n",
    "def Kickstarter_Example_57(): \n",
    "    print()\n",
    "    print(format('How to find MIN, MAX in a Dictionary','*^82'))    \n",
    "    import warnings\n",
    "    warnings.filterwarnings(\"ignore\")\n",
    "\n",
    "    # Create A Dictionary\n",
    "    ages = {'John': 21, 'Mike': 52, 'Sarah': 12, 'Bob': 43}\n",
    "    \n",
    "    # Find The Maximum Value Of The Values\n",
    "    print()\n",
    "    print('Maximum Value: '); print(max(zip(ages.values(), ages.keys())))\n",
    "    \n",
    "    print()\n",
    "    print('Maximum Value: '); print(min(zip(ages.values(), ages.keys())))\n",
    "    \n",
    "Kickstarter_Example_57()"
   ]
  }
 ],
 "metadata": {
  "kernelspec": {
   "display_name": "Python 3",
   "language": "python",
   "name": "python3"
  },
  "language_info": {
   "codemirror_mode": {
    "name": "ipython",
    "version": 3
   },
   "file_extension": ".py",
   "mimetype": "text/x-python",
   "name": "python",
   "nbconvert_exporter": "python",
   "pygments_lexer": "ipython3",
   "version": "3.6.8"
  }
 },
 "nbformat": 4,
 "nbformat_minor": 2
}
