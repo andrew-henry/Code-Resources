{
 "cells": [
  {
   "cell_type": "markdown",
   "metadata": {},
   "source": [
    "# How to introduce LAG time in Python"
   ]
  },
  {
   "cell_type": "code",
   "execution_count": 1,
   "metadata": {},
   "outputs": [
    {
     "name": "stdout",
     "output_type": "stream",
     "text": [
      "\n",
      "***********************How to introduce LAG time in Python************************\n",
      "\n",
      "       dates  stock_price  previous_days_stock_price\n",
      "0 2016-11-11          1.1                        NaN\n",
      "1 2016-11-12          2.2                        1.1\n",
      "2 2016-11-13          3.3                        2.2\n",
      "3 2016-11-14          4.4                        3.3\n",
      "4 2016-11-15          5.5                        4.4\n",
      "\n",
      "       dates  stock_price  previous_days_stock_price\n",
      "0 2016-11-11          1.1                        NaN\n",
      "1 2016-11-12          2.2                        NaN\n",
      "2 2016-11-13          3.3                        1.1\n",
      "3 2016-11-14          4.4                        2.2\n",
      "4 2016-11-15          5.5                        3.3\n"
     ]
    }
   ],
   "source": [
    "## How to introduce LAG time in Python \n",
    "def Kickstarter_Example_46(): \n",
    "    print()\n",
    "    print(format('How to introduce LAG time in Python','*^82'))    \n",
    "    import warnings\n",
    "    warnings.filterwarnings(\"ignore\")\n",
    "\n",
    "    # Load library\n",
    "    import pandas as pd\n",
    "\n",
    "    # Create data frame\n",
    "    df = pd.DataFrame()\n",
    "    \n",
    "    # Create data\n",
    "    df['dates'] = pd.date_range('11/11/2016', periods=5, freq='D')\n",
    "    df['stock_price'] = [1.1,2.2,3.3,4.4,5.5]\n",
    "    \n",
    "    # Lag Time Data By One Row\n",
    "    df['previous_days_stock_price'] = df['stock_price'].shift(1)\n",
    "    \n",
    "    # Show data frame\n",
    "    print(); print(df)\n",
    "    \n",
    "    # Lag Time Data By Two Rows\n",
    "    df['previous_days_stock_price'] = df['stock_price'].shift(2)\n",
    "    \n",
    "    # Show data frame\n",
    "    print(); print(df)    \n",
    "    \n",
    "Kickstarter_Example_46()"
   ]
  }
 ],
 "metadata": {
  "kernelspec": {
   "display_name": "Python 3",
   "language": "python",
   "name": "python3"
  },
  "language_info": {
   "codemirror_mode": {
    "name": "ipython",
    "version": 3
   },
   "file_extension": ".py",
   "mimetype": "text/x-python",
   "name": "python",
   "nbconvert_exporter": "python",
   "pygments_lexer": "ipython3",
   "version": "3.6.8"
  }
 },
 "nbformat": 4,
 "nbformat_minor": 2
}
