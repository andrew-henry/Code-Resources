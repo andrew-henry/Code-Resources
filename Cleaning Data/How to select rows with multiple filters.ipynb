{
 "cells": [
  {
   "cell_type": "markdown",
   "metadata": {},
   "source": [
    "# How to select rows with multiple filters"
   ]
  },
  {
   "cell_type": "code",
   "execution_count": 1,
   "metadata": {},
   "outputs": [
    {
     "name": "stdout",
     "output_type": "stream",
     "text": [
      "\n",
      "*********************How to select rows with multiple filters*********************\n",
      "\n",
      "  name  score\n",
      "0    A      1\n",
      "1    B      2\n",
      "2    C      3\n",
      "3    D      4\n",
      "4    E      5\n",
      "\n",
      "  name  score\n",
      "1    B      2\n",
      "2    C      3\n",
      "3    D      4\n"
     ]
    }
   ],
   "source": [
    "# How to select rows with multiple filters\n",
    "def Snippet_108(): \n",
    "    print()\n",
    "    print(format('How to select rows with multiple filters','*^82'))    \n",
    "    \n",
    "    import warnings\n",
    "    warnings.filterwarnings(\"ignore\")\n",
    "    \n",
    "    # load libraries\n",
    "    import pandas as pd\n",
    "    \n",
    "    # Create an example dataframe\n",
    "    data = {'name': ['A', 'B', 'C', 'D', 'E'], \n",
    "            'score': [1,2,3,4,5]}\n",
    "    \n",
    "    df = pd.DataFrame(data)\n",
    "    print(); print(df)\n",
    "    \n",
    "    # Select rows of the dataframe where df.score is greater than 1 and less and 5\n",
    "    df1 = df[(df['score'] > 1) & (df['score'] < 5)]\n",
    "    print(); print(df1)\n",
    "    \n",
    "Snippet_108()"
   ]
  }
 ],
 "metadata": {
  "kernelspec": {
   "display_name": "Python 3",
   "language": "python",
   "name": "python3"
  },
  "language_info": {
   "codemirror_mode": {
    "name": "ipython",
    "version": 3
   },
   "file_extension": ".py",
   "mimetype": "text/x-python",
   "name": "python",
   "nbconvert_exporter": "python",
   "pygments_lexer": "ipython3",
   "version": "3.6.8"
  }
 },
 "nbformat": 4,
 "nbformat_minor": 2
}
