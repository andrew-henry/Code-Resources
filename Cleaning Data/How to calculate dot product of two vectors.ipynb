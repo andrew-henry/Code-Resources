{
 "cells": [
  {
   "cell_type": "markdown",
   "metadata": {},
   "source": [
    "# How to calculate dot product of two vectors"
   ]
  },
  {
   "cell_type": "code",
   "execution_count": 1,
   "metadata": {},
   "outputs": [
    {
     "name": "stdout",
     "output_type": "stream",
     "text": [
      "\n",
      "**************How to calculate dot product of two vectors***************\n",
      "\n",
      "32\n",
      "\n",
      "32\n"
     ]
    }
   ],
   "source": [
    "## How to calculate dot product of two vectors\n",
    "def Kickstarter_Example_14(): \n",
    "    print()\n",
    "    print(format('How to calculate dot product of two vectors','*^72'))    \n",
    "\n",
    "    # Load library\n",
    "    import numpy as np\n",
    "    \n",
    "    # Create two vectors\n",
    "    vectorA = np.array([1,2,3])\n",
    "    vectorB = np.array([4,5,6])\n",
    "    \n",
    "    # Calculate Dot Product (Method 1)\n",
    "    print(); print(np.dot(vectorA, vectorB))\n",
    "    \n",
    "    # Calculate Dot Product (Method 2)\n",
    "    print(); print(vectorA @ vectorB)\n",
    "    \n",
    "Kickstarter_Example_14()"
   ]
  },
  {
   "cell_type": "code",
   "execution_count": 2,
   "metadata": {},
   "outputs": [
    {
     "name": "stdout",
     "output_type": "stream",
     "text": [
      "\n",
      "**************How to calculate dot product of two matrices**************\n",
      "\n",
      "[[175 203 231]\n",
      " [204 240 276]\n",
      " [240 285 330]]\n",
      "\n",
      "[[175 203 231]\n",
      " [204 240 276]\n",
      " [240 285 330]]\n"
     ]
    }
   ],
   "source": [
    "## How to calculate dot product of two matrices\n",
    "def Kickstarter_Example_14_1(): \n",
    "    print()\n",
    "    print(format('How to calculate dot product of two matrices','*^72'))    \n",
    "    \n",
    "    # Load library\n",
    "    import numpy as np\n",
    "    \n",
    "    # Create two vectors\n",
    "    matrixA = np.array([[2, 3, 23],\n",
    "                       [5, 6, 25],\n",
    "                       [8, 9, 28]])\n",
    "    matrixB = np.array([[1, 2, 3],\n",
    "                       [4, 5, 6],\n",
    "                       [7, 8, 9]])\n",
    "    \n",
    "    # Calculate Dot Product (Method 1)\n",
    "    print(); print(np.dot(matrixA, matrixB))\n",
    "    \n",
    "    # Calculate Dot Product (Method 2)\n",
    "    print(); print(matrixA @ matrixB)\n",
    "    \n",
    "Kickstarter_Example_14_1()"
   ]
  },
  {
   "cell_type": "code",
   "execution_count": 3,
   "metadata": {},
   "outputs": [
    {
     "name": "stdout",
     "output_type": "stream",
     "text": [
      "\n",
      "************************How to describe a matrix************************\n",
      "\n",
      "Shape:  (3, 3)\n",
      "\n",
      "Size:  9\n",
      "\n",
      "Dimention:  2\n"
     ]
    }
   ],
   "source": [
    "## How to describe a matrix\n",
    "def Kickstarter_Example_14_2(): \n",
    "    print()\n",
    "    print(format('How to describe a matrix','*^72'))    \n",
    "\n",
    "    # Load library\n",
    "    import numpy as np\n",
    "    \n",
    "    # Create a matrix\n",
    "    matrixA = np.array([[2, 3, 23],\n",
    "                       [5, 6, 25],\n",
    "                       [8, 9, 28]])\n",
    "    \n",
    "    # View number of rows and columns\n",
    "    print(); print(\"Shape: \", matrixA.shape)\n",
    "    \n",
    "    # View number of elements (rows * columns)\n",
    "    print(); print(\"Size: \", matrixA.size)\n",
    "    \n",
    "    # View number of dimensions\n",
    "    print(); print(\"Dimention: \", matrixA.ndim)\n",
    "    \n",
    "Kickstarter_Example_14_2()"
   ]
  }
 ],
 "metadata": {
  "kernelspec": {
   "display_name": "Python 3",
   "language": "python",
   "name": "python3"
  },
  "language_info": {
   "codemirror_mode": {
    "name": "ipython",
    "version": 3
   },
   "file_extension": ".py",
   "mimetype": "text/x-python",
   "name": "python",
   "nbconvert_exporter": "python",
   "pygments_lexer": "ipython3",
   "version": "3.6.8"
  }
 },
 "nbformat": 4,
 "nbformat_minor": 2
}
