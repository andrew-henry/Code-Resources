{
 "cells": [
  {
   "cell_type": "markdown",
   "metadata": {},
   "source": [
    "# How to create RANDOM Numbers in Python"
   ]
  },
  {
   "cell_type": "code",
   "execution_count": 1,
   "metadata": {},
   "outputs": [
    {
     "name": "stdout",
     "output_type": "stream",
     "text": [
      "\n",
      "**********************How to create RANDOM Numbers in Python**********************\n",
      "\n",
      "0.5718079692879499\n",
      "\n",
      "[-0.61879245  0.65817166 -0.41865909 -0.94647033 -0.01689476 -0.47632777\n",
      "  1.2639386  -0.11208773  0.14831378  0.84344252  1.22783882  1.0624572\n",
      " -0.71145307 -0.24354584]\n",
      "\n",
      "[0.66456188 0.86262981 0.8608813  0.40233827 0.07954986 0.2030632\n",
      " 0.37323321 0.28267457 0.67675625 0.10700224 0.89255879 0.38690977\n",
      " 0.66770101 0.16143554]\n",
      "\n",
      "[ 4 99 10 66 28 81 22  5 36 25 28 92 39 93]\n"
     ]
    }
   ],
   "source": [
    "## How to create RANDOM Numbers in Python\n",
    "def Kickstarter_Example_60(): \n",
    "    print()\n",
    "    print(format('How to create RANDOM Numbers in Python','*^82'))    \n",
    "\n",
    "    import warnings\n",
    "    warnings.filterwarnings(\"ignore\")\n",
    "    \n",
    "    # Load Libraries\n",
    "    import numpy as np\n",
    "    \n",
    "    # Generate A Random Number From The Normal Distribution\n",
    "    print(); print(np.random.normal())\n",
    "    \n",
    "    # Generate Four Random Numbers From The Normal Distribution\n",
    "    print(); print(np.random.normal(size=14))\n",
    "    \n",
    "    # Generate Four Random Numbers From The Uniform Distribution\n",
    "    print(); print(np.random.uniform(size=14))\n",
    "    \n",
    "    # Generate Four Random Integers Between 1 and 100\n",
    "    print(); print(np.random.randint(low=1, high=100, size=14))\n",
    "    \n",
    "Kickstarter_Example_60()"
   ]
  }
 ],
 "metadata": {
  "kernelspec": {
   "display_name": "Python 3",
   "language": "python",
   "name": "python3"
  },
  "language_info": {
   "codemirror_mode": {
    "name": "ipython",
    "version": 3
   },
   "file_extension": ".py",
   "mimetype": "text/x-python",
   "name": "python",
   "nbconvert_exporter": "python",
   "pygments_lexer": "ipython3",
   "version": "3.6.8"
  }
 },
 "nbformat": 4,
 "nbformat_minor": 2
}
