{
 "cells": [
  {
   "cell_type": "markdown",
   "metadata": {},
   "source": [
    "# How to check model's AUC score using cross validation in Python"
   ]
  },
  {
   "cell_type": "code",
   "execution_count": 1,
   "metadata": {},
   "outputs": [
    {
     "name": "stdout",
     "output_type": "stream",
     "text": [
      "\n",
      "*********How to check model's AUC score using cross validation in Python**********\n",
      "\n",
      "[0.92377622 0.91398601 0.93627451 0.92787115 0.93067227 0.92366947\n",
      " 0.93207283]\n",
      "\n",
      "0.927102449371357\n",
      "\n",
      "0.006134475860963237\n"
     ]
    }
   ],
   "source": [
    "## How to check model's AUC score using cross validation in Python\n",
    "def Snippet_136(): \n",
    "    print()\n",
    "    print(format('How to check model\\'s AUC score using cross validation in Python','*^82')) \n",
    "    \n",
    "    import warnings\n",
    "    warnings.filterwarnings(\"ignore\")\n",
    "    \n",
    "    # load libraries\n",
    "    from sklearn.model_selection import cross_val_score\n",
    "    from sklearn.tree import DecisionTreeClassifier\n",
    "    from sklearn.datasets import make_classification\n",
    "    \n",
    "    # Generate features matrix and target vector\n",
    "    X, y = make_classification(n_samples = 10000,\n",
    "                               n_features = 3,\n",
    "                               n_informative = 3,\n",
    "                               n_redundant = 0,\n",
    "                               n_classes = 2,\n",
    "                               random_state = 42)\n",
    "    \n",
    "    # Create Decision Tree model\n",
    "    dtree = DecisionTreeClassifier()\n",
    "    \n",
    "    # Cross-validate model using accuracy\n",
    "    print(); print(cross_val_score(dtree, X, y, scoring=\"roc_auc\", cv = 7))\n",
    "    mean_score = cross_val_score(dtree, X, y, scoring=\"roc_auc\", cv = 7).mean()\n",
    "    std_score = cross_val_score(dtree, X, y, scoring=\"roc_auc\", cv = 7).std()\n",
    "    print(); print(mean_score)\n",
    "    print(); print(std_score)\n",
    "    \n",
    "Snippet_136()"
   ]
  }
 ],
 "metadata": {
  "kernelspec": {
   "display_name": "Python 3",
   "language": "python",
   "name": "python3"
  },
  "language_info": {
   "codemirror_mode": {
    "name": "ipython",
    "version": 3
   },
   "file_extension": ".py",
   "mimetype": "text/x-python",
   "name": "python",
   "nbconvert_exporter": "python",
   "pygments_lexer": "ipython3",
   "version": "3.6.8"
  }
 },
 "nbformat": 4,
 "nbformat_minor": 2
}
