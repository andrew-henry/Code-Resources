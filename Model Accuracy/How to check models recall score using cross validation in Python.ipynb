{
 "cells": [
  {
   "cell_type": "markdown",
   "metadata": {},
   "source": [
    "# How to check model's recall score using cross validation in Python"
   ]
  },
  {
   "cell_type": "code",
   "execution_count": 1,
   "metadata": {},
   "outputs": [
    {
     "name": "stdout",
     "output_type": "stream",
     "text": [
      "\n",
      "********How to check model's recall score using cross validation in Python********\n",
      "\n",
      "[0.92307692 0.91748252 0.92577031 0.91736695 0.93137255 0.91316527\n",
      " 0.94397759]\n",
      "\n",
      "0.9260025688597119\n",
      "\n",
      "0.008419529122852532\n"
     ]
    }
   ],
   "source": [
    "## How to check model's recall score using cross validation in Python\n",
    "def Snippet_135(): \n",
    "    print()\n",
    "    print(format('How to check model\\'s recall score using cross validation in Python','*^82'))    \n",
    "    \n",
    "    import warnings\n",
    "    warnings.filterwarnings(\"ignore\")\n",
    "    \n",
    "    # load libraries\n",
    "    from sklearn.model_selection import cross_val_score\n",
    "    from sklearn.tree import DecisionTreeClassifier\n",
    "    from sklearn.datasets import make_classification\n",
    "    \n",
    "    # Generate features matrix and target vector\n",
    "    X, y = make_classification(n_samples = 10000,\n",
    "                               n_features = 3,\n",
    "                               n_informative = 3,\n",
    "                               n_redundant = 0,\n",
    "                               n_classes = 2,\n",
    "                               random_state = 42)\n",
    "    \n",
    "    # Create Decision Tree model\n",
    "    dtree = DecisionTreeClassifier()\n",
    "    \n",
    "    # Cross-validate model using accuracy\n",
    "    print(); print(cross_val_score(dtree, X, y, scoring=\"recall\", cv = 7))\n",
    "    mean_score = cross_val_score(dtree, X, y, scoring=\"recall\", cv = 7).mean()\n",
    "    std_score = cross_val_score(dtree, X, y, scoring=\"recall\", cv = 7).std()\n",
    "    print(); print(mean_score)\n",
    "    print(); print(std_score)\n",
    "    \n",
    "Snippet_135()"
   ]
  }
 ],
 "metadata": {
  "kernelspec": {
   "display_name": "Python 3",
   "language": "python",
   "name": "python3"
  },
  "language_info": {
   "codemirror_mode": {
    "name": "ipython",
    "version": 3
   },
   "file_extension": ".py",
   "mimetype": "text/x-python",
   "name": "python",
   "nbconvert_exporter": "python",
   "pygments_lexer": "ipython3",
   "version": "3.6.8"
  }
 },
 "nbformat": 4,
 "nbformat_minor": 2
}
