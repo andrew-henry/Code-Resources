{
 "cells": [
  {
   "cell_type": "markdown",
   "metadata": {},
   "source": [
    "# One hot Encoding with multiple labels in Python"
   ]
  },
  {
   "cell_type": "code",
   "execution_count": 1,
   "metadata": {},
   "outputs": [
    {
     "name": "stdout",
     "output_type": "stream",
     "text": [
      "\n",
      "*************How to do One hot Encode with multiple labels in Python**************\n",
      "\n",
      "[[0 0 0 1 1]\n",
      " [1 1 0 0 0]\n",
      " [0 0 0 1 1]\n",
      " [0 0 1 1 0]\n",
      " [1 0 0 0 1]]\n",
      "\n",
      "['Alabama' 'California' 'Delware' 'Florida' 'Texas']\n"
     ]
    }
   ],
   "source": [
    "## One hot Encoding with multiple labels in Python \n",
    "def Kickstarter_Example_36(): \n",
    "    print()\n",
    "    print(format('How to do One hot Encode with multiple labels in Python', '*^82'))    \n",
    "\n",
    "    import warnings\n",
    "    warnings.filterwarnings(\"ignore\")\n",
    "    \n",
    "    # Load libraries\n",
    "    from sklearn.preprocessing import MultiLabelBinarizer\n",
    "    \n",
    "    # Create NumPy array\n",
    "    y = [('Texas', 'Florida'), \n",
    "         ('California', 'Alabama'), \n",
    "         ('Texas', 'Florida'), \n",
    "         ('Delware', 'Florida'), \n",
    "         ('Texas', 'Alabama')]\n",
    "    \n",
    "    # Create MultiLabelBinarizer object\n",
    "    one_hot = MultiLabelBinarizer()\n",
    "    \n",
    "    # One-hot encode data\n",
    "    print(); print(one_hot.fit_transform(y))\n",
    "    \n",
    "    # View Column Headers\n",
    "    # View classes\n",
    "    print(); print(one_hot.classes_)\n",
    "    \n",
    "Kickstarter_Example_36()"
   ]
  }
 ],
 "metadata": {
  "kernelspec": {
   "display_name": "Python 3",
   "language": "python",
   "name": "python3"
  },
  "language_info": {
   "codemirror_mode": {
    "name": "ipython",
    "version": 3
   },
   "file_extension": ".py",
   "mimetype": "text/x-python",
   "name": "python",
   "nbconvert_exporter": "python",
   "pygments_lexer": "ipython3",
   "version": "3.6.8"
  }
 },
 "nbformat": 4,
 "nbformat_minor": 2
}
