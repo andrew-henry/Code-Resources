{
 "cells": [
  {
   "cell_type": "markdown",
   "metadata": {},
   "source": [
    "# How to encode ordinal categorical features in Python "
   ]
  },
  {
   "cell_type": "code",
   "execution_count": 1,
   "metadata": {},
   "outputs": [
    {
     "name": "stdout",
     "output_type": "stream",
     "text": [
      "\n",
      "***************How to encode ordinal categorical features in Python***************\n",
      "\n",
      "    Score\n",
      "0     Low\n",
      "1     Low\n",
      "2  Medium\n",
      "3  Medium\n",
      "4    High\n",
      "\n",
      "    Score  Scale\n",
      "0     Low      1\n",
      "1     Low      1\n",
      "2  Medium      2\n",
      "3  Medium      2\n",
      "4    High      3\n"
     ]
    }
   ],
   "source": [
    "## How to encode ordinal categorical features in Python \n",
    "def Kickstarter_Example_31(): \n",
    "    print()\n",
    "    print(format('How to encode ordinal categorical features in Python', '*^82'))    \n",
    "\n",
    "    import warnings\n",
    "    warnings.filterwarnings(\"ignore\")\n",
    "    \n",
    "    # Load library\n",
    "    import pandas as pd\n",
    "    \n",
    "    # Create features\n",
    "    df = pd.DataFrame({'Score': ['Low', 'Low', 'Medium', 'Medium', 'High']})\n",
    "    \n",
    "    # View data frame\n",
    "    print(); print(df)\n",
    "    \n",
    "    # Create Scale Map\n",
    "    scale_mapper = {'Low':1, 'Medium':2, 'High':3}\n",
    "    \n",
    "    # Map feature values to scale\n",
    "    df['Scale'] = df['Score'].replace(scale_mapper)\n",
    "    \n",
    "    # View data frame\n",
    "    print(); print(df)\n",
    "    \n",
    "Kickstarter_Example_31()"
   ]
  }
 ],
 "metadata": {
  "kernelspec": {
   "display_name": "Python 3",
   "language": "python",
   "name": "python3"
  },
  "language_info": {
   "codemirror_mode": {
    "name": "ipython",
    "version": 3
   },
   "file_extension": ".py",
   "mimetype": "text/x-python",
   "name": "python",
   "nbconvert_exporter": "python",
   "pygments_lexer": "ipython3",
   "version": "3.6.8"
  }
 },
 "nbformat": 4,
 "nbformat_minor": 2
}
