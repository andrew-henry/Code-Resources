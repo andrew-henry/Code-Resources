{
 "cells": [
  {
   "cell_type": "markdown",
   "metadata": {},
   "source": [
    "# How to Create simulated data for regression in Python"
   ]
  },
  {
   "cell_type": "code",
   "execution_count": 1,
   "metadata": {},
   "outputs": [
    {
     "name": "stdout",
     "output_type": "stream",
     "text": [
      "\n",
      "**************How to Create simulated data for regression in Python***************\n",
      "\n",
      "   Feature 1  Feature 2  Feature 3\n",
      "0  -1.361349   1.982526  -1.144529\n",
      "1  -0.925345  -0.861086   0.137837\n",
      "2   0.419575  -1.925695  -0.178226\n",
      "3   0.053922  -0.520252  -0.386195\n",
      "4  -0.397518   1.220856  -0.893696\n",
      "\n",
      "       Target\n",
      "0 -145.429093\n",
      "1  -51.263123\n",
      "2  -30.024469\n",
      "3  -43.656632\n",
      "4  -84.419295\n",
      "\n",
      "   True Coefficient Values\n",
      "0                52.736720\n",
      "1                18.208275\n",
      "2                95.877359\n"
     ]
    }
   ],
   "source": [
    "## How to Create simulated data for regression in Python \n",
    "def Kickstarter_Example_22(): \n",
    "    print()\n",
    "    print(format('How to Create simulated data for regression in Python', '*^82'))    \n",
    "    \n",
    "    # Load libraries\n",
    "    import pandas as pd\n",
    "    from sklearn.datasets import make_regression\n",
    "    \n",
    "    # Create Simulated Data\n",
    "    # Generate fetures, outputs, and true coefficient of 100 samples,\n",
    "    features, output, coef = make_regression(n_samples = 100, n_features = 3, \n",
    "                                n_informative = 3, n_targets = 1,\n",
    "                                noise = 0.0, coef = True)\n",
    "    \n",
    "    # View Simulated Data\n",
    "    # View the features of the first five rows\n",
    "    print()\n",
    "    print(pd.DataFrame(features, columns=['Feature 1', 'Feature 2', 'Feature 3']).head())\n",
    "    \n",
    "    # View the output of the first five rows\n",
    "    print()\n",
    "    print(pd.DataFrame(output, columns=['Target']).head())\n",
    "    \n",
    "    # View the actual, true coefficients used to generate the data\n",
    "    print()\n",
    "    print(pd.DataFrame(coef, columns=['True Coefficient Values']))\n",
    "    \n",
    "Kickstarter_Example_22()"
   ]
  }
 ],
 "metadata": {
  "kernelspec": {
   "display_name": "Python 3",
   "language": "python",
   "name": "python3"
  },
  "language_info": {
   "codemirror_mode": {
    "name": "ipython",
    "version": 3
   },
   "file_extension": ".py",
   "mimetype": "text/x-python",
   "name": "python",
   "nbconvert_exporter": "python",
   "pygments_lexer": "ipython3",
   "version": "3.6.8"
  }
 },
 "nbformat": 4,
 "nbformat_minor": 2
}
